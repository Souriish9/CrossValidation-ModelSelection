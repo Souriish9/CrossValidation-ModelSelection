{
  "nbformat": 4,
  "nbformat_minor": 0,
  "metadata": {
    "colab": {
      "provenance": [],
      "authorship_tag": "ABX9TyPeka1kpT9CW9ZU9d9XMEsG",
      "include_colab_link": true
    },
    "kernelspec": {
      "name": "python3",
      "display_name": "Python 3"
    },
    "language_info": {
      "name": "python"
    }
  },
  "cells": [
    {
      "cell_type": "markdown",
      "metadata": {
        "id": "view-in-github",
        "colab_type": "text"
      },
      "source": [
        "<a href=\"https://colab.research.google.com/github/Souriish9/CrossValidation-ModelSelection/blob/master/ModelSelection.ipynb\" target=\"_parent\"><img src=\"https://colab.research.google.com/assets/colab-badge.svg\" alt=\"Open In Colab\"/></a>"
      ]
    },
    {
      "cell_type": "code",
      "execution_count": 15,
      "metadata": {
        "id": "cWDN7bWjhg-E"
      },
      "outputs": [],
      "source": [
        "import pandas as pd"
      ]
    },
    {
      "cell_type": "code",
      "source": [
        "data=pd.read_csv('data1.csv')\n",
        "data_prep=pd.get_dummies(data,drop_first=True)"
      ],
      "metadata": {
        "id": "nSUrdKOFh1p-"
      },
      "execution_count": 16,
      "outputs": []
    },
    {
      "cell_type": "code",
      "source": [
        "X=data_prep.iloc[:,:-1]\n",
        "Y=data_prep.iloc[:,-1]"
      ],
      "metadata": {
        "id": "xhkg48c3iH0k"
      },
      "execution_count": 17,
      "outputs": []
    },
    {
      "cell_type": "code",
      "source": [
        "from sklearn.tree import DecisionTreeClassifier\n",
        "dtc=DecisionTreeClassifier(random_state=1234)"
      ],
      "metadata": {
        "id": "1JfOwSL1iRzL"
      },
      "execution_count": 18,
      "outputs": []
    },
    {
      "cell_type": "code",
      "source": [
        "from sklearn.ensemble import RandomForestClassifier\n",
        "rfc=RandomForestClassifier(random_state=1234)"
      ],
      "metadata": {
        "id": "rWG0dgsUilgc"
      },
      "execution_count": 19,
      "outputs": []
    },
    {
      "cell_type": "code",
      "source": [
        "from sklearn.svm import SVC\n",
        "svc = SVC(kernel='rbf', gamma=0.5)"
      ],
      "metadata": {
        "id": "OqTCl9WAix3Q"
      },
      "execution_count": 30,
      "outputs": []
    },
    {
      "cell_type": "markdown",
      "source": [
        "Cross Validation"
      ],
      "metadata": {
        "id": "f6u_fzv1jS9X"
      }
    },
    {
      "cell_type": "code",
      "source": [
        "from sklearn.model_selection import cross_validate"
      ],
      "metadata": {
        "id": "9OIw-2bIix-k"
      },
      "execution_count": 31,
      "outputs": []
    },
    {
      "cell_type": "code",
      "source": [
        "cv_result_dtc=cross_validate(dtc,X,Y,cv=10,return_train_score=True)\n",
        "cv_result_rfc=cross_validate(rfc,X,Y,cv=10,return_train_score=True)\n",
        "cv_result_svc=cross_validate(svc,X,Y,cv=10,return_train_score=True)"
      ],
      "metadata": {
        "id": "4GRqcjP8kI8O"
      },
      "execution_count": 32,
      "outputs": []
    },
    {
      "cell_type": "code",
      "source": [
        "import numpy as np\n",
        "\n",
        "dtc_test_avg=np.average(cv_result_dtc['test_score'])\n",
        "rfc_test_avg=np.average(cv_result_rfc['test_score'])\n",
        "svc_test_avg=np.average(cv_result_svc['test_score'])\n",
        "\n",
        "dtc_train_avg=np.average(cv_result_dtc['train_score'])\n",
        "rfc_train_avg=np.average(cv_result_rfc['train_score'])\n",
        "svc_train_avg=np.average(cv_result_svc['train_score'])"
      ],
      "metadata": {
        "id": "K_yVbWm3kk_n"
      },
      "execution_count": 33,
      "outputs": []
    },
    {
      "cell_type": "code",
      "source": [
        "print(dtc_test_avg,rfc_test_avg,svc_test_avg)"
      ],
      "metadata": {
        "colab": {
          "base_uri": "https://localhost:8080/"
        },
        "id": "9-OOvoPsmex8",
        "outputId": "ef0db1a0-55b3-4b45-e4a9-bc765297d0dd"
      },
      "execution_count": 34,
      "outputs": [
        {
          "output_type": "stream",
          "name": "stdout",
          "text": [
            "0.7810691737459707 0.7971904185045097 0.8036085674097743\n"
          ]
        }
      ]
    },
    {
      "cell_type": "code",
      "source": [
        "print(dtc_train_avg,rfc_train_avg,svc_train_avg)"
      ],
      "metadata": {
        "colab": {
          "base_uri": "https://localhost:8080/"
        },
        "id": "cjUKvXYGnBkG",
        "outputId": "410f8330-79b2-4927-fd83-8c21cc066b64"
      },
      "execution_count": 35,
      "outputs": [
        {
          "output_type": "stream",
          "name": "stdout",
          "text": [
            "0.9043535882172298 0.9042918191721612 0.8744798848765454\n"
          ]
        }
      ]
    },
    {
      "cell_type": "code",
      "source": [
        "print()\n",
        "print()\n",
        "print('       ','Decision Tree','  Random Forest',' SVM')\n",
        "print('       ','------------','   -----------','   ----------')\n",
        "print('Test :  ',\n",
        "      round(dtc_test_avg,4),'       ',\n",
        "      round(rfc_test_avg,4),'       ',\n",
        "      round(svc_test_avg,4),'       ')\n",
        "print('Train :  ',\n",
        "      round(dtc_train_avg,4),'       ',\n",
        "      round(rfc_train_avg,4),'       ',\n",
        "      round(svc_train_avg,4),'       ')"
      ],
      "metadata": {
        "colab": {
          "base_uri": "https://localhost:8080/"
        },
        "id": "B9CTe0y0ncuN",
        "outputId": "7f0f50f7-a2e9-4a33-c974-adfdba8b0a07"
      },
      "execution_count": 41,
      "outputs": [
        {
          "output_type": "stream",
          "name": "stdout",
          "text": [
            "\n",
            "\n",
            "        Decision Tree   Random Forest  SVM\n",
            "        ------------    -----------    ----------\n",
            "Test :   0.7811         0.7972         0.8036        \n",
            "Train :   0.9044         0.9043         0.8745        \n"
          ]
        }
      ]
    }
  ]
}